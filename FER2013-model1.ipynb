{
 "cells": [
  {
   "cell_type": "code",
   "execution_count": 1,
   "metadata": {},
   "outputs": [],
   "source": [
    "import tensorflow as tf\n",
    "import numpy as np\n",
    "import matplotlib.pyplot as plt\n",
    "%matplotlib inline\n",
    "from tqdm import trange"
   ]
  },
  {
   "cell_type": "code",
   "execution_count": 2,
   "metadata": {},
   "outputs": [
    {
     "name": "stderr",
     "output_type": "stream",
     "text": [
      "Using TensorFlow backend.\n"
     ]
    }
   ],
   "source": [
    "from keras.models import Sequential\n",
    "from keras.layers import BatchNormalization, Conv2D, MaxPooling2D, Dense, Dropout, Flatten, LocallyConnected2D\n",
    "from keras.optimizers import Adam\n",
    "from keras.callbacks import EarlyStopping\n",
    "from keras.regularizers import l1, l2\n",
    "from keras.utils import plot_model, to_categorical\n",
    "\n",
    "import pandas as pd"
   ]
  },
  {
   "cell_type": "code",
   "execution_count": 3,
   "metadata": {},
   "outputs": [],
   "source": [
    "df = pd.read_csv('fer2013/fer2013.csv')"
   ]
  },
  {
   "cell_type": "code",
   "execution_count": 4,
   "metadata": {},
   "outputs": [
    {
     "data": {
      "text/html": [
       "<div>\n",
       "<style scoped>\n",
       "    .dataframe tbody tr th:only-of-type {\n",
       "        vertical-align: middle;\n",
       "    }\n",
       "\n",
       "    .dataframe tbody tr th {\n",
       "        vertical-align: top;\n",
       "    }\n",
       "\n",
       "    .dataframe thead th {\n",
       "        text-align: right;\n",
       "    }\n",
       "</style>\n",
       "<table border=\"1\" class=\"dataframe\">\n",
       "  <thead>\n",
       "    <tr style=\"text-align: right;\">\n",
       "      <th></th>\n",
       "      <th>emotion</th>\n",
       "      <th>pixels</th>\n",
       "      <th>Usage</th>\n",
       "    </tr>\n",
       "  </thead>\n",
       "  <tbody>\n",
       "    <tr>\n",
       "      <th>0</th>\n",
       "      <td>0</td>\n",
       "      <td>70 80 82 72 58 58 60 63 54 58 60 48 89 115 121...</td>\n",
       "      <td>Training</td>\n",
       "    </tr>\n",
       "    <tr>\n",
       "      <th>1</th>\n",
       "      <td>0</td>\n",
       "      <td>151 150 147 155 148 133 111 140 170 174 182 15...</td>\n",
       "      <td>Training</td>\n",
       "    </tr>\n",
       "    <tr>\n",
       "      <th>2</th>\n",
       "      <td>2</td>\n",
       "      <td>231 212 156 164 174 138 161 173 182 200 106 38...</td>\n",
       "      <td>Training</td>\n",
       "    </tr>\n",
       "    <tr>\n",
       "      <th>3</th>\n",
       "      <td>4</td>\n",
       "      <td>24 32 36 30 32 23 19 20 30 41 21 22 32 34 21 1...</td>\n",
       "      <td>Training</td>\n",
       "    </tr>\n",
       "    <tr>\n",
       "      <th>4</th>\n",
       "      <td>6</td>\n",
       "      <td>4 0 0 0 0 0 0 0 0 0 0 0 3 15 23 28 48 50 58 84...</td>\n",
       "      <td>Training</td>\n",
       "    </tr>\n",
       "  </tbody>\n",
       "</table>\n",
       "</div>"
      ],
      "text/plain": [
       "   emotion                                             pixels     Usage\n",
       "0        0  70 80 82 72 58 58 60 63 54 58 60 48 89 115 121...  Training\n",
       "1        0  151 150 147 155 148 133 111 140 170 174 182 15...  Training\n",
       "2        2  231 212 156 164 174 138 161 173 182 200 106 38...  Training\n",
       "3        4  24 32 36 30 32 23 19 20 30 41 21 22 32 34 21 1...  Training\n",
       "4        6  4 0 0 0 0 0 0 0 0 0 0 0 3 15 23 28 48 50 58 84...  Training"
      ]
     },
     "execution_count": 4,
     "metadata": {},
     "output_type": "execute_result"
    }
   ],
   "source": [
    "df.head()"
   ]
  },
  {
   "cell_type": "code",
   "execution_count": 5,
   "metadata": {},
   "outputs": [],
   "source": [
    "def pullImage(frame, index: int):\n",
    "  \"\"\"\n",
    "  Takes in a pandas data frame object and an index and returns the 48 x 48 pixel\n",
    "  matrix as well as the label for the type of emotion.\n",
    "  \"\"\"\n",
    "  img = frame.loc[index]['pixels'].split(' ')\n",
    "  img = np.array([np.int(i) for i in img])\n",
    "  img.resize(48,48)\n",
    "  label = np.uint8(frame.loc[index]['emotion'])\n",
    "  \n",
    "  return img, label\n",
    "\n",
    "\n",
    "def splitImage_Labels(frame):\n",
    "  \"\"\"\n",
    "  Takes in a pandas data frame object filled with pixel field and label field \n",
    "  and returns two numpy arrays; one for images and one for labels.\n",
    "  \"\"\"\n",
    "  labels = np.empty(len(frame))\n",
    "  images = np.empty((len(frame), 48, 48, 1))  # using channel last notation.\n",
    "  \n",
    "  for i in range(len(frame)):\n",
    "    img, lbl = pullImage(frame, i)\n",
    "    img = np.reshape(img, (48,48,1))\n",
    "    images[i], labels[i] = img, lbl\n",
    "    \n",
    "  return images.astype(np.uint8), to_categorical(labels, 7).astype(np.uint8)"
   ]
  },
  {
   "cell_type": "code",
   "execution_count": 6,
   "metadata": {
    "scrolled": true
   },
   "outputs": [
    {
     "name": "stderr",
     "output_type": "stream",
     "text": [
      "/home/ashu2_gamer/.local/lib/python3.5/site-packages/pandas/core/frame.py:3697: SettingWithCopyWarning: \n",
      "A value is trying to be set on a copy of a slice from a DataFrame\n",
      "\n",
      "See the caveats in the documentation: http://pandas.pydata.org/pandas-docs/stable/indexing.html#indexing-view-versus-copy\n",
      "  errors=errors)\n"
     ]
    }
   ],
   "source": [
    "df_Training = df[df.Usage == 'Training']\n",
    "df_Testing = df[df.Usage == 'PrivateTest'].reset_index(drop = True)\n",
    "df_Training.drop('Usage', axis=1, inplace=True)\n",
    "df_Testing.drop('Usage', axis=1, inplace=True)"
   ]
  },
  {
   "cell_type": "code",
   "execution_count": 7,
   "metadata": {},
   "outputs": [],
   "source": [
    "img_train, lbl_train = splitImage_Labels(df_Training)\n",
    "img_test, lbl_test = splitImage_Labels(df_Testing)"
   ]
  },
  {
   "cell_type": "code",
   "execution_count": 8,
   "metadata": {},
   "outputs": [],
   "source": [
    "np.save('img_train.npy', img_train)\n",
    "np.save('lbl_train.npy', lbl_train)\n",
    "np.save('img_test.npy', img_test)\n",
    "np.save('lbl_test.npy', img_test)"
   ]
  },
  {
   "cell_type": "code",
   "execution_count": 9,
   "metadata": {},
   "outputs": [
    {
     "data": {
      "text/plain": [
       "Text(0.5,1,'Training Image 40 (with label [1 0 0 0 0 0 0])')"
      ]
     },
     "execution_count": 9,
     "metadata": {},
     "output_type": "execute_result"
    },
    {
     "data": {
      "image/png": "[encoded data removed]",
      "text/plain": [
       "<Figure size 432x288 with 1 Axes>"
      ]
     },
     "metadata": {
      "needs_background": "light"
     },
     "output_type": "display_data"
    }
   ],
   "source": [
    "plt.imshow(np.reshape(img_train[40], (48,48)),cmap='gray' )\n",
    "plt.title('Training Image 40 (with label ' + str(lbl_train[0]) + ')')"
   ]
  },
  {
   "cell_type": "code",
   "execution_count": 10,
   "metadata": {},
   "outputs": [],
   "source": [
    "n_inputs = 2304\n",
    "n_classes = 7\n",
    "img_dim = 48"
   ]
  },
  {
   "cell_type": "code",
   "execution_count": 16,
   "metadata": {},
   "outputs": [],
   "source": [
    "model = Sequential()\n",
    "\n",
    "#part1 ------------------------------------------------------------------------------------------------------\n",
    "outputFilters = 40\n",
    "kernelSize = 5\n",
    "\n",
    "model.add(Conv2D(outputFilters, kernelSize, padding='same', activation='relu',\n",
    "                 input_shape=img_train[0].shape))\n",
    "model.add(Conv2D(outputFilters, kernelSize, padding='same', activation='relu'))\n",
    "#model.add(Dropout(0.2))\n",
    "model.add(Conv2D(outputFilters, kernelSize, padding='same', activation='relu'))\n",
    "\n",
    "model.add(MaxPooling2D(pool_size=(2, 2)))\n",
    "\n",
    "#part2 ------------------------------------------------------------------------------------------------------\n",
    "outputFilters2 = 60\n",
    "kernelSize2 = 5 \n",
    "\n",
    "model.add(Conv2D(outputFilters2, kernelSize2, padding='same', activation='relu'))\n",
    "model.add(Conv2D(outputFilters2, kernelSize2, padding='same', activation='relu'))\n",
    "model.add(Conv2D(outputFilters2, kernelSize2, padding='same', activation='relu'))\n",
    "\n",
    "model.add(MaxPooling2D(pool_size=(2, 2)))\n",
    "\n",
    "#part3 ------------------------------------------------------------------------------------------------------\n",
    "outputFilters3 = 100\n",
    "kernelSize3 = 3\n",
    "\n",
    "model.add(LocallyConnected2D(outputFilters3, kernelSize3, padding='valid', activation='relu'))\n",
    "model.add(LocallyConnected2D(outputFilters3, kernelSize3, padding='valid', activation='relu'))\n",
    "\n",
    "#part4 ------------------------------------------------------------------------------------------------------\n",
    "layerSize = 64\n",
    "\n",
    "model.add(Flatten())\n",
    "model.add(Dense(layerSize, activation='relu'))\n",
    "model.add(Dropout(0.5))\n",
    "model.add(Dense(layerSize, activation='relu'))\n",
    "model.add(Dense(n_classes, activation='softmax'))"
   ]
  },
  {
   "cell_type": "code",
   "execution_count": null,
   "metadata": {
    "scrolled": true
   },
   "outputs": [
    {
     "name": "stdout",
     "output_type": "stream",
     "text": [
      "Train on 20096 samples, validate on 8613 samples\n",
      "Epoch 1/50\n",
      "20096/20096 [==============================] - 25s 1ms/step - loss: 1.9240 - acc: 0.2100 - val_loss: 1.8477 - val_acc: 0.2529\n",
      "Epoch 2/50\n",
      "20096/20096 [==============================] - 21s 1ms/step - loss: 1.8431 - acc: 0.2375 - val_loss: 1.8136 - val_acc: 0.2529\n",
      "Epoch 3/50\n",
      "20096/20096 [==============================] - 21s 1ms/step - loss: 1.8038 - acc: 0.2476 - val_loss: 1.7626 - val_acc: 0.2587\n",
      "Epoch 4/50\n",
      "20096/20096 [==============================] - 21s 1ms/step - loss: 1.7542 - acc: 0.2852 - val_loss: 1.6884 - val_acc: 0.3511\n",
      "Epoch 5/50\n",
      "20096/20096 [==============================] - 21s 1ms/step - loss: 1.6852 - acc: 0.3308 - val_loss: 1.6622 - val_acc: 0.3813\n",
      "Epoch 6/50\n",
      "20096/20096 [==============================] - 21s 1ms/step - loss: 1.6301 - acc: 0.3508 - val_loss: 1.5352 - val_acc: 0.4110\n",
      "Epoch 7/50\n",
      "20096/20096 [==============================] - 21s 1ms/step - loss: 1.5753 - acc: 0.3785 - val_loss: 1.5626 - val_acc: 0.4064\n",
      "Epoch 8/50\n",
      "20096/20096 [==============================] - 21s 1ms/step - loss: 1.5302 - acc: 0.3968 - val_loss: 1.4644 - val_acc: 0.4248\n",
      "Epoch 9/50\n",
      "20096/20096 [==============================] - 21s 1ms/step - loss: 1.4772 - acc: 0.4218 - val_loss: 1.4567 - val_acc: 0.4498\n",
      "Epoch 10/50\n",
      "20096/20096 [==============================] - 21s 1ms/step - loss: 1.4316 - acc: 0.4308 - val_loss: 1.4127 - val_acc: 0.4515\n",
      "Epoch 11/50\n",
      "20096/20096 [==============================] - 21s 1ms/step - loss: 1.4070 - acc: 0.4429 - val_loss: 1.4094 - val_acc: 0.4707\n",
      "Epoch 12/50\n",
      "20096/20096 [==============================] - 21s 1ms/step - loss: 1.3537 - acc: 0.4627 - val_loss: 1.3584 - val_acc: 0.4888\n",
      "Epoch 13/50\n",
      "20096/20096 [==============================] - 21s 1ms/step - loss: 1.3058 - acc: 0.4830 - val_loss: 1.3407 - val_acc: 0.4991\n",
      "Epoch 14/50\n",
      "20096/20096 [==============================] - 21s 1ms/step - loss: 1.2418 - acc: 0.5102 - val_loss: 1.3487 - val_acc: 0.4903\n",
      "Epoch 15/50\n",
      "20096/20096 [==============================] - 21s 1ms/step - loss: 1.1681 - acc: 0.5410 - val_loss: 1.3614 - val_acc: 0.4861\n",
      "Epoch 16/50\n",
      "20096/20096 [==============================] - 21s 1ms/step - loss: 1.1155 - acc: 0.5581 - val_loss: 1.3884 - val_acc: 0.4988\n",
      "Epoch 17/50\n",
      "20096/20096 [==============================] - 21s 1ms/step - loss: 1.0257 - acc: 0.5932 - val_loss: 1.4264 - val_acc: 0.5095\n",
      "Epoch 18/50\n",
      "20096/20096 [==============================] - 21s 1ms/step - loss: 0.9448 - acc: 0.6253 - val_loss: 1.4680 - val_acc: 0.4946\n",
      "Epoch 19/50\n",
      "10400/20096 [==============>...............] - ETA: 8s - loss: 0.8732 - acc: 0.6497"
     ]
    }
   ],
   "source": [
    "import time\n",
    "\n",
    "start = time.time()\n",
    "batchSize = 800\n",
    "trainingEpochs = 50\n",
    "\n",
    "model.compile(optimizer='adam', loss='categorical_crossentropy',\n",
    "              metrics=['accuracy'])\n",
    "\n",
    "early_stopping = EarlyStopping(monitor='val_loss', patience=10, verbose=1)\n",
    "\n",
    "trainingHistory = model.fit(img_train, lbl_train, batch_size=batchSize, \n",
    "                            epochs=trainingEpochs,\n",
    "                            validation_split=0.3, \n",
    "                            callbacks=[early_stopping], \n",
    "                            shuffle=True,)\n",
    "\n",
    "trainingAccuracy = trainingHistory.history['acc']\n",
    "validationAccuracy = trainingHistory.history['val_acc']\n",
    "\n",
    "end = time.time()\n",
    "print(\"*Net Time : \", (end-start)/60, ' mins...')"
   ]
  },
  {
   "cell_type": "code",
   "execution_count": null,
   "metadata": {},
   "outputs": [],
   "source": [
    "def predict(mdl, img):\n",
    "  emotions = ['Anger', 'Disgust', 'Fear', 'Happy', 'Sad', 'Surprise', 'Neutral']\n",
    "  im = np.zeros((1, 48, 48, 1))\n",
    "  im[0] = img\n",
    "  p = mdl.predict(im)\n",
    "\n",
    "  i = np.argmax(p)\n",
    "  \n",
    "  plt.imshow(np.reshape(img, (48,48)), cmap='gray')\n",
    "  plt.title('Test Image (Predicted Label: ' + emotions[i] + ')')\n",
    "  return p"
   ]
  },
  {
   "cell_type": "code",
   "execution_count": null,
   "metadata": {},
   "outputs": [],
   "source": [
    "predict(model, img_test[222])"
   ]
  },
  {
   "cell_type": "code",
   "execution_count": null,
   "metadata": {},
   "outputs": [],
   "source": [
    "scores = model.evaluate(img_test, lbl_test)\n",
    "print('%s: %.2f%%'% (model.metrics_names[1], scores[1]*100))"
   ]
  },
  {
   "cell_type": "code",
   "execution_count": null,
   "metadata": {},
   "outputs": [],
   "source": [
    "model.save('fer2013prep1.h5')\n",
    "model.save_weights('fer2013_weightsprep1.h5')"
   ]
  },
  {
   "cell_type": "code",
   "execution_count": null,
   "metadata": {},
   "outputs": [],
   "source": [
    "img_indx = 2005\n",
    "sample = img_test[img_indx, :]\n",
    "sample = sample.reshape(48, 48)\n",
    "\n",
    "pred_cls = model.predict_classes(sample.reshape(1, 48, 48, 1))\n",
    "\n",
    "plt.imshow(sample, cmap='gray')\n",
    "plt.show()\n",
    "print('> testing image index: %d\\n> true emotion: %s\\n> predicted emotion: %s' % (img_indx, get_emotion(lbl_test[img_indx, :]), get_emotion(pred_cls)))"
   ]
  },
  {
   "cell_type": "code",
   "execution_count": null,
   "metadata": {},
   "outputs": [],
   "source": [
    "import time"
   ]
  },
  {
   "cell_type": "code",
   "execution_count": null,
   "metadata": {},
   "outputs": [],
   "source": [
    "time.time()"
   ]
  },
  {
   "cell_type": "code",
   "execution_count": null,
   "metadata": {},
   "outputs": [],
   "source": []
  }
 ],
 "metadata": {
  "kernelspec": {
   "display_name": "Python 3",
   "language": "python",
   "name": "python3"
  },
  "language_info": {
   "codemirror_mode": {
    "name": "ipython",
    "version": 3
   },
   "file_extension": ".py",
   "mimetype": "text/x-python",
   "name": "python",
   "nbconvert_exporter": "python",
   "pygments_lexer": "ipython3",
   "version": "3.5.2"
  }
 },
 "nbformat": 4,
 "nbformat_minor": 2
}
