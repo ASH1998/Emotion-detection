{
 "cells": [
  {
   "cell_type": "code",
   "execution_count": 1,
   "metadata": {},
   "outputs": [],
   "source": [
    "import tensorflow as tf\n",
    "import numpy as np\n",
    "import matplotlib.pyplot as plt\n",
    "%matplotlib inline\n",
    "from tqdm import trange"
   ]
  },
  {
   "cell_type": "code",
   "execution_count": 2,
   "metadata": {},
   "outputs": [
    {
     "name": "stderr",
     "output_type": "stream",
     "text": [
      "Using TensorFlow backend.\n"
     ]
    }
   ],
   "source": [
    "from keras.models import Sequential\n",
    "from keras.layers import BatchNormalization, Conv2D, MaxPooling2D, Dense, Dropout, Flatten, LocallyConnected2D\n",
    "from keras.optimizers import Adam\n",
    "from keras.callbacks import EarlyStopping\n",
    "from keras.regularizers import l1, l2\n",
    "from keras.utils import plot_model, to_categorical\n",
    "\n",
    "import pandas as pd"
   ]
  },
  {
   "cell_type": "code",
   "execution_count": 3,
   "metadata": {},
   "outputs": [],
   "source": [
    "df = pd.read_csv('//home//ashu2_gamer//Project//FER2013-or//fer2013//fer2013.csv')"
   ]
  },
  {
   "cell_type": "code",
   "execution_count": 4,
   "metadata": {},
   "outputs": [
    {
     "data": {
      "text/html": [
       "<div>\n",
       "<style scoped>\n",
       "    .dataframe tbody tr th:only-of-type {\n",
       "        vertical-align: middle;\n",
       "    }\n",
       "\n",
       "    .dataframe tbody tr th {\n",
       "        vertical-align: top;\n",
       "    }\n",
       "\n",
       "    .dataframe thead th {\n",
       "        text-align: right;\n",
       "    }\n",
       "</style>\n",
       "<table border=\"1\" class=\"dataframe\">\n",
       "  <thead>\n",
       "    <tr style=\"text-align: right;\">\n",
       "      <th></th>\n",
       "      <th>emotion</th>\n",
       "      <th>pixels</th>\n",
       "      <th>Usage</th>\n",
       "    </tr>\n",
       "  </thead>\n",
       "  <tbody>\n",
       "    <tr>\n",
       "      <th>0</th>\n",
       "      <td>0</td>\n",
       "      <td>70 80 82 72 58 58 60 63 54 58 60 48 89 115 121...</td>\n",
       "      <td>Training</td>\n",
       "    </tr>\n",
       "    <tr>\n",
       "      <th>1</th>\n",
       "      <td>0</td>\n",
       "      <td>151 150 147 155 148 133 111 140 170 174 182 15...</td>\n",
       "      <td>Training</td>\n",
       "    </tr>\n",
       "    <tr>\n",
       "      <th>2</th>\n",
       "      <td>2</td>\n",
       "      <td>231 212 156 164 174 138 161 173 182 200 106 38...</td>\n",
       "      <td>Training</td>\n",
       "    </tr>\n",
       "    <tr>\n",
       "      <th>3</th>\n",
       "      <td>4</td>\n",
       "      <td>24 32 36 30 32 23 19 20 30 41 21 22 32 34 21 1...</td>\n",
       "      <td>Training</td>\n",
       "    </tr>\n",
       "    <tr>\n",
       "      <th>4</th>\n",
       "      <td>6</td>\n",
       "      <td>4 0 0 0 0 0 0 0 0 0 0 0 3 15 23 28 48 50 58 84...</td>\n",
       "      <td>Training</td>\n",
       "    </tr>\n",
       "  </tbody>\n",
       "</table>\n",
       "</div>"
      ],
      "text/plain": [
       "   emotion                                             pixels     Usage\n",
       "0        0  70 80 82 72 58 58 60 63 54 58 60 48 89 115 121...  Training\n",
       "1        0  151 150 147 155 148 133 111 140 170 174 182 15...  Training\n",
       "2        2  231 212 156 164 174 138 161 173 182 200 106 38...  Training\n",
       "3        4  24 32 36 30 32 23 19 20 30 41 21 22 32 34 21 1...  Training\n",
       "4        6  4 0 0 0 0 0 0 0 0 0 0 0 3 15 23 28 48 50 58 84...  Training"
      ]
     },
     "execution_count": 4,
     "metadata": {},
     "output_type": "execute_result"
    }
   ],
   "source": [
    "df.head()"
   ]
  },
  {
   "cell_type": "code",
   "execution_count": 5,
   "metadata": {},
   "outputs": [],
   "source": [
    "def get_emotion(ohv):\n",
    "    if ohv.shape[0] == 1:\n",
    "        indx = ohv[0]\n",
    "    else:\n",
    "        indx = np.argmax(ohv)\n",
    "        \n",
    "    if indx == 0:\n",
    "        return 'angry'\n",
    "    elif indx == 1:\n",
    "        return 'disgust'\n",
    "    elif indx == 2:\n",
    "        return 'fear'\n",
    "    elif indx == 3:\n",
    "        return 'happy'\n",
    "    elif indx == 4:\n",
    "        return 'sad'\n",
    "    elif indx == 5:\n",
    "        return 'surprise'\n",
    "    elif indx == 6:\n",
    "        return 'neutral'"
   ]
  },
  {
   "cell_type": "code",
   "execution_count": 6,
   "metadata": {},
   "outputs": [],
   "source": [
    "def pullImage(frame, index: int):\n",
    "  \"\"\"\n",
    "  Takes in a pandas data frame object and an index and returns the 48 x 48 pixel\n",
    "  matrix as well as the label for the type of emotion.\n",
    "  \"\"\"\n",
    "  img = frame.loc[index]['pixels'].split(' ')\n",
    "  img = np.array([np.int(i) for i in img])\n",
    "  img.resize(48,48)\n",
    "  label = np.uint8(frame.loc[index]['emotion'])\n",
    "  \n",
    "  return img, label\n",
    "\n",
    "\n",
    "def splitImage_Labels(frame):\n",
    "  \"\"\"\n",
    "  Takes in a pandas data frame object filled with pixel field and label field \n",
    "  and returns two numpy arrays; one for images and one for labels.\n",
    "  \"\"\"\n",
    "  labels = np.empty(len(frame))\n",
    "  images = np.empty((len(frame), 48, 48, 1))  # using channel last notation.\n",
    "  \n",
    "  for i in range(len(frame)):\n",
    "    img, lbl = pullImage(frame, i)\n",
    "    img = np.reshape(img, (48,48,1))\n",
    "    images[i], labels[i] = img, lbl\n",
    "    \n",
    "  return images.astype(np.uint8), to_categorical(labels, 7).astype(np.uint8)"
   ]
  },
  {
   "cell_type": "code",
   "execution_count": 7,
   "metadata": {
    "scrolled": true
   },
   "outputs": [
    {
     "name": "stderr",
     "output_type": "stream",
     "text": [
      "/home/ashu2_gamer/.local/lib/python3.5/site-packages/pandas/core/frame.py:3697: SettingWithCopyWarning: \n",
      "A value is trying to be set on a copy of a slice from a DataFrame\n",
      "\n",
      "See the caveats in the documentation: http://pandas.pydata.org/pandas-docs/stable/indexing.html#indexing-view-versus-copy\n",
      "  errors=errors)\n"
     ]
    }
   ],
   "source": [
    "df_Training = df[df.Usage == 'Training']\n",
    "df_Testing = df[df.Usage == 'PrivateTest'].reset_index(drop = True)\n",
    "df_Training.drop('Usage', axis=1, inplace=True)\n",
    "df_Testing.drop('Usage', axis=1, inplace=True)"
   ]
  },
  {
   "cell_type": "code",
   "execution_count": 8,
   "metadata": {},
   "outputs": [],
   "source": [
    "img_train, lbl_train = splitImage_Labels(df_Training)\n",
    "img_test, lbl_test = splitImage_Labels(df_Testing)"
   ]
  },
  {
   "cell_type": "code",
   "execution_count": 9,
   "metadata": {},
   "outputs": [],
   "source": [
    "#np.save('img_train.npy', img_train)\n",
    "#np.save('lbl_train.npy', lbl_train)\n",
    "#np.save('img_test.npy', img_test)\n",
    "np.save('lbl_test.npy', lbl_test)"
   ]
  },
  {
   "cell_type": "code",
   "execution_count": 10,
   "metadata": {},
   "outputs": [
    {
     "data": {
      "text/plain": [
       "Text(0.5,1,'Training Image 40 (with label [1 0 0 0 0 0 0])')"
      ]
     },
     "execution_count": 10,
     "metadata": {},
     "output_type": "execute_result"
    },
    {
     "data": {
      "image/png": "[encoded data removed]",
      "text/plain": [
       "<Figure size 432x288 with 1 Axes>"
      ]
     },
     "metadata": {
      "needs_background": "light"
     },
     "output_type": "display_data"
    }
   ],
   "source": [
    "plt.imshow(np.reshape(img_train[40], (48,48)),cmap='gray' )\n",
    "plt.title('Training Image 40 (with label ' + str(lbl_train[0]) + ')')"
   ]
  },
  {
   "cell_type": "code",
   "execution_count": 11,
   "metadata": {},
   "outputs": [],
   "source": [
    "n_inputs = 2304\n",
    "n_classes = 7\n",
    "img_dim = 48"
   ]
  },
  {
   "cell_type": "code",
   "execution_count": 12,
   "metadata": {},
   "outputs": [],
   "source": [
    "model = Sequential()\n",
    "\n",
    "#part1 ------------------------------------------------------------------------------------------------------\n",
    "outputFilters = 40\n",
    "kernelSize = 5\n",
    "\n",
    "model.add(Conv2D(outputFilters, kernelSize, padding='same', activation='relu',\n",
    "                 input_shape=img_train[0].shape))\n",
    "model.add(Conv2D(outputFilters, kernelSize, padding='same', activation='relu'))\n",
    "model.add(Conv2D(outputFilters, kernelSize, padding='same', activation='relu'))\n",
    "model.add(Dropout(0.2))\n",
    "model.add(MaxPooling2D(pool_size=(2, 2)))\n",
    "\n",
    "#part2 ------------------------------------------------------------------------------------------------------\n",
    "outputFilters2 = 60\n",
    "kernelSize2 = 5 \n",
    "\n",
    "model.add(Conv2D(outputFilters2, kernelSize2, padding='same', activation='relu'))\n",
    "model.add(Conv2D(outputFilters2, kernelSize2, padding='same', activation='relu'))\n",
    "model.add(Dropout(0.2))\n",
    "model.add(Conv2D(outputFilters2, kernelSize2, padding='same', activation='relu'))\n",
    "\n",
    "model.add(MaxPooling2D(pool_size=(2, 2)))\n",
    "\n",
    "#part3 ------------------------------------------------------------------------------------------------------\n",
    "outputFilters3 = 100\n",
    "kernelSize3 = 3\n",
    "\n",
    "model.add(LocallyConnected2D(outputFilters3, kernelSize3, padding='valid', activation='relu'))\n",
    "model.add(LocallyConnected2D(outputFilters3, kernelSize3, padding='valid', activation='relu'))\n",
    "\n",
    "#part4 ------------------------------------------------------------------------------------------------------\n",
    "layerSize = 64\n",
    "\n",
    "model.add(Flatten())\n",
    "model.add(Dense(layerSize, activation='relu'))\n",
    "model.add(Dropout(0.3))\n",
    "model.add(Dense(layerSize, activation='relu'))\n",
    "model.add(Dense(n_classes, activation='softmax'))"
   ]
  },
  {
   "cell_type": "code",
   "execution_count": 13,
   "metadata": {
    "scrolled": false
   },
   "outputs": [
    {
     "name": "stdout",
     "output_type": "stream",
     "text": [
      "Train on 20096 samples, validate on 8613 samples\n",
      "Epoch 1/50\n",
      "20096/20096 [==============================] - 32s 2ms/step - loss: 1.9516 - acc: 0.2279 - val_loss: 1.8651 - val_acc: 0.2529\n",
      "Epoch 2/50\n",
      "20096/20096 [==============================] - 22s 1ms/step - loss: 1.8510 - acc: 0.2421 - val_loss: 1.8361 - val_acc: 0.2529\n",
      "Epoch 3/50\n",
      "20096/20096 [==============================] - 22s 1ms/step - loss: 1.8123 - acc: 0.2476 - val_loss: 1.7669 - val_acc: 0.2529\n",
      "Epoch 4/50\n",
      "20096/20096 [==============================] - 22s 1ms/step - loss: 1.7825 - acc: 0.2598 - val_loss: 1.7459 - val_acc: 0.2863\n",
      "Epoch 5/50\n",
      "20096/20096 [==============================] - 22s 1ms/step - loss: 1.7141 - acc: 0.3001 - val_loss: 1.6383 - val_acc: 0.3629\n",
      "Epoch 6/50\n",
      "20096/20096 [==============================] - 22s 1ms/step - loss: 1.6467 - acc: 0.3519 - val_loss: 1.6190 - val_acc: 0.3821\n",
      "Epoch 7/50\n",
      "20096/20096 [==============================] - 22s 1ms/step - loss: 1.6062 - acc: 0.3666 - val_loss: 1.5337 - val_acc: 0.4087\n",
      "Epoch 8/50\n",
      "20096/20096 [==============================] - 22s 1ms/step - loss: 1.5559 - acc: 0.3917 - val_loss: 1.5290 - val_acc: 0.4126\n",
      "Epoch 9/50\n",
      "20096/20096 [==============================] - 22s 1ms/step - loss: 1.5047 - acc: 0.4036 - val_loss: 1.5282 - val_acc: 0.4122\n",
      "Epoch 10/50\n",
      "20096/20096 [==============================] - 22s 1ms/step - loss: 1.4647 - acc: 0.4273 - val_loss: 1.4344 - val_acc: 0.4424\n",
      "Epoch 11/50\n",
      "20096/20096 [==============================] - 22s 1ms/step - loss: 1.4035 - acc: 0.4454 - val_loss: 1.3961 - val_acc: 0.4706\n",
      "Epoch 12/50\n",
      "20096/20096 [==============================] - 22s 1ms/step - loss: 1.3786 - acc: 0.4627 - val_loss: 1.4464 - val_acc: 0.4383\n",
      "Epoch 13/50\n",
      "20096/20096 [==============================] - 22s 1ms/step - loss: 1.3662 - acc: 0.4672 - val_loss: 1.4106 - val_acc: 0.4747\n",
      "Epoch 14/50\n",
      "20096/20096 [==============================] - 22s 1ms/step - loss: 1.3024 - acc: 0.4975 - val_loss: 1.3627 - val_acc: 0.4923\n",
      "Epoch 15/50\n",
      "20096/20096 [==============================] - 22s 1ms/step - loss: 1.2478 - acc: 0.5214 - val_loss: 1.3080 - val_acc: 0.5105\n",
      "Epoch 16/50\n",
      "20096/20096 [==============================] - 22s 1ms/step - loss: 1.1907 - acc: 0.5407 - val_loss: 1.3264 - val_acc: 0.5038\n",
      "Epoch 17/50\n",
      "20096/20096 [==============================] - 22s 1ms/step - loss: 1.1250 - acc: 0.5742 - val_loss: 1.3116 - val_acc: 0.5196\n",
      "Epoch 18/50\n",
      "20096/20096 [==============================] - 22s 1ms/step - loss: 1.0513 - acc: 0.6020 - val_loss: 1.3062 - val_acc: 0.5272\n",
      "Epoch 19/50\n",
      "20096/20096 [==============================] - 22s 1ms/step - loss: 0.9927 - acc: 0.6195 - val_loss: 1.3512 - val_acc: 0.5145\n",
      "Epoch 20/50\n",
      "20096/20096 [==============================] - 22s 1ms/step - loss: 0.9414 - acc: 0.6473 - val_loss: 1.3772 - val_acc: 0.5233\n",
      "Epoch 21/50\n",
      "20096/20096 [==============================] - 22s 1ms/step - loss: 0.8563 - acc: 0.6779 - val_loss: 1.3376 - val_acc: 0.5287\n",
      "Epoch 22/50\n",
      "20096/20096 [==============================] - 22s 1ms/step - loss: 0.7726 - acc: 0.7114 - val_loss: 1.3912 - val_acc: 0.5261\n",
      "Epoch 23/50\n",
      "20096/20096 [==============================] - 22s 1ms/step - loss: 0.7020 - acc: 0.7405 - val_loss: 1.4273 - val_acc: 0.5275\n",
      "Epoch 24/50\n",
      "20096/20096 [==============================] - 22s 1ms/step - loss: 0.6408 - acc: 0.7589 - val_loss: 1.4756 - val_acc: 0.5241\n",
      "Epoch 25/50\n",
      "20096/20096 [==============================] - 22s 1ms/step - loss: 0.5852 - acc: 0.7817 - val_loss: 1.5297 - val_acc: 0.5162\n",
      "Epoch 26/50\n",
      "20096/20096 [==============================] - 22s 1ms/step - loss: 0.5311 - acc: 0.8068 - val_loss: 1.6902 - val_acc: 0.5160\n",
      "Epoch 27/50\n",
      "20096/20096 [==============================] - 22s 1ms/step - loss: 0.4591 - acc: 0.8305 - val_loss: 1.7110 - val_acc: 0.5165\n",
      "Epoch 28/50\n",
      "20096/20096 [==============================] - 22s 1ms/step - loss: 0.4395 - acc: 0.8374 - val_loss: 1.7224 - val_acc: 0.5318\n",
      "Epoch 00028: early stopping\n",
      "*Net Time :  10.465441914399465  mins...\n"
     ]
    }
   ],
   "source": [
    "import time\n",
    "\n",
    "start = time.time()\n",
    "batchSize = 800\n",
    "trainingEpochs = 50\n",
    "\n",
    "model.compile(optimizer='adam', loss='categorical_crossentropy',\n",
    "              metrics=['accuracy'])\n",
    "\n",
    "early_stopping = EarlyStopping(monitor='val_loss', patience=10, verbose=1)\n",
    "\n",
    "trainingHistory = model.fit(img_train, lbl_train, batch_size=batchSize, \n",
    "                            epochs=trainingEpochs,\n",
    "                            validation_split=0.3, \n",
    "                            callbacks=[early_stopping], \n",
    "                            shuffle=True,)\n",
    "\n",
    "trainingAccuracy = trainingHistory.history['acc']\n",
    "validationAccuracy = trainingHistory.history['val_acc']\n",
    "\n",
    "end = time.time()\n",
    "print(\"*Net Time : \", (end-start)/60, ' mins...')"
   ]
  },
  {
   "cell_type": "code",
   "execution_count": 19,
   "metadata": {},
   "outputs": [],
   "source": [
    "def predict(mdl, img):\n",
    "  emotions = ['Anger', 'Disgust', 'Fear', 'Happy', 'Sad', 'Surprise', 'Neutral']\n",
    "  im = np.zeros((1, 48, 48, 1))\n",
    "  im[0] = img\n",
    "  p = mdl.predict(im)\n",
    "\n",
    "  i = np.argmax(p)\n",
    "  \n",
    "  plt.imshow(np.reshape(img, (48,48)), cmap='gray')\n",
    "  plt.title('Test Image (Predicted Label: ' + emotions[i] + ')')\n",
    "  return p"
   ]
  },
  {
   "cell_type": "code",
   "execution_count": 23,
   "metadata": {},
   "outputs": [
    {
     "data": {
      "text/plain": [
       "array([[1.06714644e-04, 5.39517098e-09, 3.07985442e-03, 2.48796391e-06,\n",
       "        4.98892128e-08, 9.94928122e-01, 1.88289804e-03]], dtype=float32)"
      ]
     },
     "execution_count": 23,
     "metadata": {},
     "output_type": "execute_result"
    },
    {
     "data": {
      "image/png": "[encoded data removed]",
      "text/plain": [
       "<Figure size 432x288 with 1 Axes>"
      ]
     },
     "metadata": {
      "needs_background": "light"
     },
     "output_type": "display_data"
    }
   ],
   "source": [
    "predict(model, img_test[212])"
   ]
  },
  {
   "cell_type": "code",
   "execution_count": 24,
   "metadata": {},
   "outputs": [
    {
     "name": "stdout",
     "output_type": "stream",
     "text": [
      "3589/3589 [==============================] - 2s 491us/step\n",
      "acc: 53.44%\n"
     ]
    }
   ],
   "source": [
    "scores = model.evaluate(img_test, lbl_test)\n",
    "print('%s: %.2f%%'% (model.metrics_names[1], scores[1]*100))"
   ]
  },
  {
   "cell_type": "code",
   "execution_count": 25,
   "metadata": {},
   "outputs": [],
   "source": [
    "model.save('fer2013prep1.h5')\n",
    "model.save_weights('fer2013_weightsprep1.h5')"
   ]
  },
  {
   "cell_type": "code",
   "execution_count": 28,
   "metadata": {},
   "outputs": [
    {
     "data": {
      "image/png": "[encoded data removed]",
      "text/plain": [
       "<Figure size 432x288 with 1 Axes>"
      ]
     },
     "metadata": {
      "needs_background": "light"
     },
     "output_type": "display_data"
    },
    {
     "name": "stdout",
     "output_type": "stream",
     "text": [
      "> testing image index: 2405\n",
      "> true emotion: surprise\n",
      "> predicted emotion: surprise\n"
     ]
    }
   ],
   "source": [
    "img_indx = 2405\n",
    "sample = img_test[img_indx, :]\n",
    "sample = sample.reshape(48, 48)\n",
    "\n",
    "pred_cls = model.predict_classes(sample.reshape(1, 48, 48, 1))\n",
    "\n",
    "plt.imshow(sample, cmap='gray')\n",
    "plt.show()\n",
    "print('> testing image index: %d\\n> true emotion: %s\\n> predicted emotion: %s' % (img_indx, get_emotion(lbl_test[img_indx, :]), get_emotion(pred_cls)))"
   ]
  },
  {
   "cell_type": "code",
   "execution_count": null,
   "metadata": {},
   "outputs": [],
   "source": []
  }
 ],
 "metadata": {
  "kernelspec": {
   "display_name": "Python 3",
   "language": "python",
   "name": "python3"
  },
  "language_info": {
   "codemirror_mode": {
    "name": "ipython",
    "version": 3
   },
   "file_extension": ".py",
   "mimetype": "text/x-python",
   "name": "python",
   "nbconvert_exporter": "python",
   "pygments_lexer": "ipython3",
   "version": "3.5.2"
  }
 },
 "nbformat": 4,
 "nbformat_minor": 2
}
